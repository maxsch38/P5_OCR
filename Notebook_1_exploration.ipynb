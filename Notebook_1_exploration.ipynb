{
 "cells": [
  {
   "cell_type": "markdown",
   "id": "ceb8f386",
   "metadata": {},
   "source": [
    "# **Projet 5 - Segmentez des clients d'un site e-commerce : Notebook exploratoire**"
   ]
  },
  {
   "cell_type": "markdown",
   "id": "b2a8496e",
   "metadata": {},
   "source": [
    "**Table des matières**<a id='toc0_'></a>    \n",
    "- 1. [Introduction](#toc1_)    \n",
    "  - 1.1. [Contexte](#toc1_1_)    \n",
    "  - 1.2. [Mission](#toc1_2_)    \n",
    "  - 1.3. [Objectif du notebook](#toc1_3_)    \n",
    "- 2. [Installation des librairies](#toc2_)    \n",
    "- 3. [Importation des données](#toc3_)    \n",
    "- 4. [Analyse Exploratoire](#toc4_)    \n",
    "  - 4.1. [Customers](#toc4_1_)    \n",
    "  - 4.2. [Orders](#toc4_2_)    \n",
    "  - 4.3. [Order_payments](#toc4_3_)    \n",
    "    - 4.3.1. [Formatage](#toc4_3_1_)    \n",
    "    - 4.3.2. [Ajout des variables dans data](#toc4_3_2_)    \n",
    "  - 4.4. [Order_items](#toc4_4_)    \n",
    "    - 4.4.1. [Formatage](#toc4_4_1_)    \n",
    "    - 4.4.2. [Ajout des variables dans data](#toc4_4_2_)    \n",
    "  - 4.5. [Order_reviews](#toc4_5_)    \n",
    "    - 4.5.1. [Formatage](#toc4_5_1_)    \n",
    "    - 4.5.2. [Ajout des variables dans data :](#toc4_5_2_)    \n",
    "- 5. [Finalisation de data](#toc5_)    \n",
    "- 6. [Création des features engineering](#toc6_)    \n",
    "  - 6.1. [Création de nouvelles variables](#toc6_1_)    \n",
    "  - 6.2. [Création du feature engineering_1](#toc6_2_)    \n",
    "  - 6.3. [Création du feature engineering_2](#toc6_3_)    \n",
    "- 7. [Enregistrement des données](#toc7_)    \n",
    "\n",
    "<!-- vscode-jupyter-toc-config\n",
    "\tnumbering=true\n",
    "\tanchor=true\n",
    "\tflat=false\n",
    "\tminLevel=2\n",
    "\tmaxLevel=6\n",
    "\t/vscode-jupyter-toc-config -->\n",
    "<!-- THIS CELL WILL BE REPLACED ON TOC UPDATE. DO NOT WRITE YOUR TEXT IN THIS CELL -->"
   ]
  },
  {
   "cell_type": "markdown",
   "id": "b0691d81",
   "metadata": {},
   "source": [
    "## 1. <a id='toc1_'></a>[Introduction](#toc0_)\n",
    "### 1.1. <a id='toc1_1_'></a>[Contexte](#toc0_)\n",
    "\n",
    "Vous êtes consultant pour Olist, une entreprise brésilienne qui propose une solution de vente sur les marketplaces en ligne.\n",
    "\n",
    "Olist souhaite que vous fournissiez à ses équipes d'e-commerce une segmentation des clients qu’elles pourront utiliser au quotidien pour leurs campagnes de communication.  \n",
    "Votre objectif est de comprendre les différents types d’utilisateurs grâce à leur comportement et à leurs données personnelles.  \n",
    "Vous devrez fournir à l’équipe marketing une description actionable de votre segmentation et de sa logique sous-jacente pour une utilisation optimale, ainsi qu’une proposition de contrat de maintenance basée sur une analyse de la stabilité des segments au cours du temps.  \n",
    "\n",
    "### 1.2. <a id='toc1_2_'></a>[Mission](#toc0_)\n",
    "\n",
    "1. Nous sommes confiants sur le fait que les données à disposition suffiront pour réaliser un premier clustering. Cela a déjà été fait par d’autres prestataires par le passé, avec encore moins de données.  \n",
    "La segmentation proposée doit être exploitable et facile d’utilisation par notre équipe Marketing. Elle doit au minimum pouvoir différencier les bons et moins bons clients en termes de commandes et de satisfaction. Nous attendons bien sûr une segmentation sur l’ensemble des clients.\n",
    "\n",
    "2. Une fois le modèle de segmentation choisi, nous souhaiterions que vous nous fassiez une recommandation de fréquence à laquelle la segmentation doit être mise à jour pour rester pertinente, afin de pouvoir effectuer un devis de contrat de maintenance.\n",
    "\n",
    "### 1.3. <a id='toc1_3_'></a>[Objectif du notebook](#toc0_)\n",
    "\n",
    "Dans ce Notebook nous verrons : \n",
    "- L'analyse exploratoire des différents Datasets\n",
    "- La sélection et la création de variables pertientes pour répondre à l'étude\n",
    "- Le nettoyage et la création de différents datasets (différents feature engineerings pour la modélisation)"
   ]
  },
  {
   "cell_type": "markdown",
   "id": "20f02c1e",
   "metadata": {},
   "source": [
    "## 2. <a id='toc2_'></a>[Installation des librairies](#toc0_)"
   ]
  },
  {
   "cell_type": "code",
   "execution_count": 1,
   "id": "db4bfb40",
   "metadata": {
    "code_folding": [
     0
    ]
   },
   "outputs": [],
   "source": [
    "import numpy as np\n",
    "import pandas as pd \n",
    "import os\n",
    "import matplotlib.pyplot as plt \n",
    "import seaborn as sns\n",
    "import pickle"
   ]
  },
  {
   "cell_type": "markdown",
   "id": "500b7742",
   "metadata": {},
   "source": [
    "## 3. <a id='toc3_'></a>[Importation des données](#toc0_)"
   ]
  },
  {
   "cell_type": "code",
   "execution_count": 2,
   "id": "d0648182",
   "metadata": {},
   "outputs": [],
   "source": [
    "# Définition des dossiers : \n",
    "dossier_donnees = '1. Données'\n",
    "dossier_sauvegarde = '2. Sauvegardes'"
   ]
  },
  {
   "cell_type": "code",
   "execution_count": 3,
   "id": "c32801d1",
   "metadata": {
    "code_folding": [
     0
    ],
    "scrolled": true
   },
   "outputs": [
    {
     "name": "stdout",
     "output_type": "stream",
     "text": [
      "Dataframes importés dans le dictionnaire dataframes :\n",
      "\n",
      "- order_reviews\n",
      "- customers\n",
      "- products\n",
      "- orders\n",
      "- product_category_name_translation\n",
      "- geolocation\n",
      "- order_payments\n",
      "- sellers\n",
      "- order_items\n"
     ]
    }
   ],
   "source": [
    "# Importation des fichiers dans un dictionnaire : \n",
    "ls_fichier = [fichier for fichier in os.listdir(dossier_donnees) if fichier.endswith('.csv')]\n",
    "dataframes = {}\n",
    "\n",
    "for nom in ls_fichier:\n",
    "    chemin = os.path.join(dossier_donnees, nom)\n",
    "    nom_dataframe = os.path.splitext(nom)[0] \n",
    "    df = pd.read_csv(chemin)\n",
    "    dataframes[nom_dataframe] = df\n",
    "\n",
    "print(\"Dataframes importés dans le dictionnaire dataframes :\\n\")\n",
    "\n",
    "for nom in dataframes.keys():\n",
    "    print(f\"- {nom}\")\n",
    "\n",
    "del ls_fichier, nom, chemin, nom_dataframe, df"
   ]
  },
  {
   "cell_type": "code",
   "execution_count": 4,
   "id": "eabe7d9d",
   "metadata": {},
   "outputs": [
    {
     "name": "stdout",
     "output_type": "stream",
     "text": [
      "Colonnes de order_reviews :\n",
      "\n",
      "- review_id\n",
      "- order_id\n",
      "- review_score\n",
      "- review_comment_title\n",
      "- review_comment_message\n",
      "- review_creation_date\n",
      "- review_answer_timestamp\n",
      "\n",
      "Dimension du dataframe order_reviews : (99224, 7)\n",
      "----------------------------------------------------------------------------------------------------\n",
      "Colonnes de customers :\n",
      "\n",
      "- customer_id\n",
      "- customer_unique_id\n",
      "- customer_zip_code_prefix\n",
      "- customer_city\n",
      "- customer_state\n",
      "\n",
      "Dimension du dataframe customers : (99441, 5)\n",
      "----------------------------------------------------------------------------------------------------\n",
      "Colonnes de products :\n",
      "\n",
      "- product_id\n",
      "- product_category_name\n",
      "- product_name_lenght\n",
      "- product_description_lenght\n",
      "- product_photos_qty\n",
      "- product_weight_g\n",
      "- product_length_cm\n",
      "- product_height_cm\n",
      "- product_width_cm\n",
      "\n",
      "Dimension du dataframe products : (32951, 9)\n",
      "----------------------------------------------------------------------------------------------------\n",
      "Colonnes de orders :\n",
      "\n",
      "- order_id\n",
      "- customer_id\n",
      "- order_status\n",
      "- order_purchase_timestamp\n",
      "- order_approved_at\n",
      "- order_delivered_carrier_date\n",
      "- order_delivered_customer_date\n",
      "- order_estimated_delivery_date\n",
      "\n",
      "Dimension du dataframe orders : (99441, 8)\n",
      "----------------------------------------------------------------------------------------------------\n",
      "Colonnes de product_category_name_translation :\n",
      "\n",
      "- product_category_name\n",
      "- product_category_name_english\n",
      "\n",
      "Dimension du dataframe product_category_name_translation : (71, 2)\n",
      "----------------------------------------------------------------------------------------------------\n",
      "Colonnes de geolocation :\n",
      "\n",
      "- geolocation_zip_code_prefix\n",
      "- geolocation_lat\n",
      "- geolocation_lng\n",
      "- geolocation_city\n",
      "- geolocation_state\n",
      "\n",
      "Dimension du dataframe geolocation : (1000163, 5)\n",
      "----------------------------------------------------------------------------------------------------\n",
      "Colonnes de order_payments :\n",
      "\n",
      "- order_id\n",
      "- payment_sequential\n",
      "- payment_type\n",
      "- payment_installments\n",
      "- payment_value\n",
      "\n",
      "Dimension du dataframe order_payments : (103886, 5)\n",
      "----------------------------------------------------------------------------------------------------\n",
      "Colonnes de sellers :\n",
      "\n",
      "- seller_id\n",
      "- seller_zip_code_prefix\n",
      "- seller_city\n",
      "- seller_state\n",
      "\n",
      "Dimension du dataframe sellers : (3095, 4)\n",
      "----------------------------------------------------------------------------------------------------\n",
      "Colonnes de order_items :\n",
      "\n",
      "- order_id\n",
      "- order_item_id\n",
      "- product_id\n",
      "- seller_id\n",
      "- shipping_limit_date\n",
      "- price\n",
      "- freight_value\n",
      "\n",
      "Dimension du dataframe order_items : (112650, 7)\n",
      "----------------------------------------------------------------------------------------------------\n"
     ]
    }
   ],
   "source": [
    "# Visualisation des colonnes et dimmensions des dataframes : \n",
    "\n",
    "for nom in dataframes.keys(): \n",
    "    print(f\"Colonnes de {nom} :\\n\")\n",
    "    \n",
    "    for col in dataframes[nom].columns: \n",
    "        print(f\"- {col}\")\n",
    "    \n",
    "    print('')\n",
    "    print(f'Dimension du dataframe {nom} : {dataframes[nom].shape}')\n",
    "    print('--'*50)\n",
    "    \n",
    "del nom, col"
   ]
  },
  {
   "cell_type": "markdown",
   "id": "f888f1ec",
   "metadata": {},
   "source": [
    "## 4. <a id='toc4_'></a>[Analyse Exploratoire](#toc0_)\n",
    "### 4.1. <a id='toc4_1_'></a>[Customers](#toc0_)"
   ]
  },
  {
   "cell_type": "code",
   "execution_count": 5,
   "id": "2a988235",
   "metadata": {
    "code_folding": [
     0
    ]
   },
   "outputs": [
    {
     "name": "stdout",
     "output_type": "stream",
     "text": [
      "Dimensions de customers : (99441, 5)\n",
      "----------------------------------------------------------------------------------------------------\n",
      "Colonnes et pourcentage de valeurs manquantes :\n",
      "\n",
      "customer_id                 0.0\n",
      "customer_unique_id          0.0\n",
      "customer_zip_code_prefix    0.0\n",
      "customer_city               0.0\n",
      "customer_state              0.0\n",
      "dtype: float64\n",
      "----------------------------------------------------------------------------------------------------\n",
      "Type de données:\n",
      "\n",
      "customer_id                 object\n",
      "customer_unique_id          object\n",
      "customer_zip_code_prefix     int64\n",
      "customer_city               object\n",
      "customer_state              object\n",
      "dtype: object\n"
     ]
    }
   ],
   "source": [
    "# Création du dataframe : \n",
    "\n",
    "customers = dataframes['customers'].copy()\n",
    "\n",
    "print(f\"Dimensions de customers : {customers.shape}\")\n",
    "\n",
    "print('--'*50)\n",
    "\n",
    "print(f\"Colonnes et pourcentage de valeurs manquantes :\\n\")\n",
    "print(customers.isna().mean())\n",
    "\n",
    "print('--'*50)\n",
    "\n",
    "print(f\"Type de données:\\n\")\n",
    "print(customers.dtypes)"
   ]
  },
  {
   "cell_type": "code",
   "execution_count": 6,
   "id": "fbeb87fe",
   "metadata": {
    "code_folding": [
     0
    ]
   },
   "outputs": [
    {
     "name": "stdout",
     "output_type": "stream",
     "text": [
      "Il y a 0 lignes en doublons\n"
     ]
    }
   ],
   "source": [
    "# Recherche de doublons : \n",
    "print(f\"Il y a {len(customers[customers.duplicated()])} lignes en doublons\")"
   ]
  },
  {
   "cell_type": "markdown",
   "id": "46964fa7",
   "metadata": {},
   "source": [
    "Variables utiles : \n",
    "- customer_id pour le lien avec le  dataframe orders. \n",
    "- customer_unique_id pour l'identification du client. \n",
    "- customer_zip_code_prefix pour le lien avec le dataframes geolocatio. (typage à mettre en obejct)"
   ]
  },
  {
   "cell_type": "code",
   "execution_count": 7,
   "id": "6600d0fc",
   "metadata": {
    "code_folding": [
     0
    ]
   },
   "outputs": [],
   "source": [
    "# Chagement de type de la colonne customer_zip_code_prefix :\n",
    "customers['customer_zip_code_prefix'] = customers['customer_zip_code_prefix'].astype('object')"
   ]
  },
  {
   "cell_type": "code",
   "execution_count": 8,
   "id": "28f4017d",
   "metadata": {},
   "outputs": [
    {
     "name": "stdout",
     "output_type": "stream",
     "text": [
      "Colonnes de data et valeurs manquantes :\n",
      "\n",
      "customer_id                 0.0\n",
      "customer_unique_id          0.0\n",
      "customer_zip_code_prefix    0.0\n",
      "dtype: float64\n",
      "\n",
      "Dimensions de data : (99441, 3)\n"
     ]
    }
   ],
   "source": [
    "# Création de data avec les colonnes sélectionnées : \n",
    "data = pd.DataFrame(customers[['customer_id', 'customer_unique_id', 'customer_zip_code_prefix']]) \n",
    "\n",
    "# Vérification : \n",
    "print(f\"Colonnes de data et valeurs manquantes :\\n\")\n",
    "print(data.isna().mean())\n",
    "print(f\"\\nDimensions de data : {data.shape}\")\n",
    "\n",
    "del customers"
   ]
  },
  {
   "cell_type": "markdown",
   "id": "886fc4c8",
   "metadata": {},
   "source": [
    "### 4.2. <a id='toc4_2_'></a>[Orders](#toc0_)"
   ]
  },
  {
   "cell_type": "code",
   "execution_count": 9,
   "id": "3740d72e",
   "metadata": {
    "code_folding": [
     0
    ]
   },
   "outputs": [
    {
     "name": "stdout",
     "output_type": "stream",
     "text": [
      "Dimensions de orders : (99441, 8)\n",
      "----------------------------------------------------------------------------------------------------\n",
      "Colonnes et pourcentage de valeurs manquantes :\n",
      "\n",
      "order_id                         0.000000\n",
      "customer_id                      0.000000\n",
      "order_status                     0.000000\n",
      "order_purchase_timestamp         0.000000\n",
      "order_approved_at                0.001609\n",
      "order_delivered_carrier_date     0.017930\n",
      "order_delivered_customer_date    0.029817\n",
      "order_estimated_delivery_date    0.000000\n",
      "dtype: float64\n",
      "----------------------------------------------------------------------------------------------------\n",
      "Type de données:\n",
      "\n",
      "order_id                         object\n",
      "customer_id                      object\n",
      "order_status                     object\n",
      "order_purchase_timestamp         object\n",
      "order_approved_at                object\n",
      "order_delivered_carrier_date     object\n",
      "order_delivered_customer_date    object\n",
      "order_estimated_delivery_date    object\n",
      "dtype: object\n"
     ]
    }
   ],
   "source": [
    "# Création du dataframe : \n",
    "\n",
    "orders = dataframes['orders'].copy()\n",
    "\n",
    "print(f\"Dimensions de orders : {orders.shape}\")\n",
    "\n",
    "print('--'*50)\n",
    "\n",
    "print(f\"Colonnes et pourcentage de valeurs manquantes :\\n\")\n",
    "print(orders.isna().mean())\n",
    "\n",
    "print('--'*50)\n",
    "\n",
    "print(f\"Type de données:\\n\")\n",
    "print(orders.dtypes)"
   ]
  },
  {
   "cell_type": "code",
   "execution_count": 10,
   "id": "243e308b",
   "metadata": {
    "code_folding": [
     0
    ]
   },
   "outputs": [
    {
     "name": "stdout",
     "output_type": "stream",
     "text": [
      "Il y a 0 lignes en doublons\n"
     ]
    }
   ],
   "source": [
    "# Recherche de doublons : \n",
    "print(f\"Il y a {len(orders[orders.duplicated()])} lignes en doublons\")"
   ]
  },
  {
   "cell_type": "markdown",
   "id": "38c9f953",
   "metadata": {},
   "source": [
    "Variables utiles : \n",
    "- customer_id pour le lien avec le  dataframe data. \n",
    "- order_id pour l'identification de la commande et le lien avec les autres dataframes.\n",
    "- order_purchase_timestamp, pour avoir la notion de recence du modèle RFM en marketing et pour l'utilisation dans un second temps pour la création de variables temporelles. "
   ]
  },
  {
   "cell_type": "code",
   "execution_count": 11,
   "id": "73295238",
   "metadata": {
    "code_folding": [
     0
    ]
   },
   "outputs": [],
   "source": [
    "# Chagement de type de la colonne order_purchase_timestamp :\n",
    "orders['order_purchase_timestamp'] = orders['order_purchase_timestamp'].astype('datetime64[ns]')"
   ]
  },
  {
   "cell_type": "code",
   "execution_count": 12,
   "id": "db651bcc",
   "metadata": {
    "code_folding": [
     0
    ]
   },
   "outputs": [
    {
     "data": {
      "image/png": "[encoded data removed]",
      "text/plain": [
       "<Figure size 1000x600 with 1 Axes>"
      ]
     },
     "metadata": {},
     "output_type": "display_data"
    }
   ],
   "source": [
    "# Visualisation de la répartition de order_purchase_timestamp : \n",
    "\n",
    "plt.figure(figsize=(10, 6))\n",
    "sns.histplot(orders['order_purchase_timestamp'])\n",
    "plt.xlabel('Date')\n",
    "plt.ylabel('Fréquence')\n",
    "plt.title('Distribution de order_purchase_timestamp')\n",
    "plt.show()"
   ]
  },
  {
   "cell_type": "code",
   "execution_count": 13,
   "id": "e953d297",
   "metadata": {
    "code_folding": [
     0
    ],
    "scrolled": true
   },
   "outputs": [
    {
     "name": "stdout",
     "output_type": "stream",
     "text": [
      "Colonnes de data et valeurs manquantes :\n",
      "\n",
      "customer_id                 0.0\n",
      "customer_unique_id          0.0\n",
      "customer_zip_code_prefix    0.0\n",
      "order_id                    0.0\n",
      "order_purchase_timestamp    0.0\n",
      "dtype: float64\n",
      "\n",
      "Dimensions de data : (99441, 5)\n"
     ]
    }
   ],
   "source": [
    "# Ajout des colonnes à data : \n",
    "data = data.merge(orders[['customer_id', 'order_id', 'order_purchase_timestamp']], on='customer_id', how='left')\n",
    "\n",
    "# Vérification : \n",
    "print(f\"Colonnes de data et valeurs manquantes :\\n\")\n",
    "print(data.isna().mean())\n",
    "print(f\"\\nDimensions de data : {data.shape}\")\n",
    "\n",
    "del orders"
   ]
  },
  {
   "cell_type": "markdown",
   "id": "2d1f3b4a",
   "metadata": {},
   "source": [
    "Les colonnes customer_id et order_id sont en doublons (variables donnant la même information). Choix de la variable order_id pour son lien avec les autres dataframes."
   ]
  },
  {
   "cell_type": "code",
   "execution_count": 14,
   "id": "058fbc66",
   "metadata": {},
   "outputs": [],
   "source": [
    "# Suppression de la variables customer_id : \n",
    "data = data.drop('customer_id', axis=1)"
   ]
  },
  {
   "cell_type": "markdown",
   "id": "955e4ad0",
   "metadata": {},
   "source": [
    "### 4.3. <a id='toc4_3_'></a>[Order_payments](#toc0_)\n",
    "#### 4.3.1. <a id='toc4_3_1_'></a>[Formatage](#toc0_)"
   ]
  },
  {
   "cell_type": "code",
   "execution_count": 15,
   "id": "bd6e8a64",
   "metadata": {
    "code_folding": [
     0
    ],
    "scrolled": true
   },
   "outputs": [
    {
     "name": "stdout",
     "output_type": "stream",
     "text": [
      "Dimensions de payments : (103886, 5)\n",
      "----------------------------------------------------------------------------------------------------\n",
      "Colonnes et pourcentage de valeurs manquantes :\n",
      "\n",
      "order_id                0.0\n",
      "payment_sequential      0.0\n",
      "payment_type            0.0\n",
      "payment_installments    0.0\n",
      "payment_value           0.0\n",
      "dtype: float64\n",
      "----------------------------------------------------------------------------------------------------\n",
      "Type de données:\n",
      "\n",
      "order_id                 object\n",
      "payment_sequential        int64\n",
      "payment_type             object\n",
      "payment_installments      int64\n",
      "payment_value           float64\n",
      "dtype: object\n"
     ]
    }
   ],
   "source": [
    "# Création du dataframe : \n",
    "\n",
    "payments = dataframes['order_payments'].copy()\n",
    "\n",
    "print(f\"Dimensions de payments : {payments.shape}\")\n",
    "\n",
    "print('--'*50)\n",
    "\n",
    "print(f\"Colonnes et pourcentage de valeurs manquantes :\\n\")\n",
    "print(payments.isna().mean())\n",
    "\n",
    "print('--'*50)\n",
    "\n",
    "print(f\"Type de données:\\n\")\n",
    "print(payments.dtypes)"
   ]
  },
  {
   "cell_type": "code",
   "execution_count": 16,
   "id": "94a8466d",
   "metadata": {
    "code_folding": [
     0
    ]
   },
   "outputs": [
    {
     "name": "stdout",
     "output_type": "stream",
     "text": [
      "Il y a 0 lignes en doublons\n"
     ]
    }
   ],
   "source": [
    "# Recherche de doublons : \n",
    "print(f\"Il y a {len(payments[payments.duplicated()])} lignes en doublons\")"
   ]
  },
  {
   "cell_type": "markdown",
   "id": "065a74bb",
   "metadata": {},
   "source": [
    "Variables utiles : \n",
    "- order_id pour le lien avec data.\n",
    "- payment_value pour avoir la notion de montant du modèle RFM en marketing. \n",
    "- payment_installments et payment_type pour la notion des habitudes de paiements d'un utilisatieur dans un second temps."
   ]
  },
  {
   "cell_type": "code",
   "execution_count": 17,
   "id": "ca12e237",
   "metadata": {
    "code_folding": [
     0
    ]
   },
   "outputs": [],
   "source": [
    "# Création d'une colonne installments : \n",
    "temp_df = payments.groupby('order_id').agg({\n",
    "    'payment_sequential': 'max',\n",
    "    'payment_installments': 'sum'\n",
    "}).reset_index()\n",
    "\n",
    "# Calcul de la valeur de la variable installments : \n",
    "temp_df['installments'] = np.where(temp_df['payment_sequential'] < temp_df['payment_installments'], 1, 0)\n",
    "\n",
    "# Ajout de la variable à payments : \n",
    "payments = payments.merge(temp_df[['order_id', 'installments']], on='order_id')\n",
    "\n",
    "del temp_df"
   ]
  },
  {
   "cell_type": "code",
   "execution_count": 18,
   "id": "96d525ef",
   "metadata": {
    "code_folding": [
     0
    ]
   },
   "outputs": [],
   "source": [
    "# Suppression des colonnes payment_sequential et payment_installments : \n",
    "payments = payments.drop(['payment_sequential', 'payment_installments'], axis=1)"
   ]
  },
  {
   "cell_type": "code",
   "execution_count": 19,
   "id": "27fb60bc",
   "metadata": {
    "code_folding": [
     0
    ]
   },
   "outputs": [
    {
     "name": "stdout",
     "output_type": "stream",
     "text": [
      "Types de paiement disponnibles :\n",
      "\t-credit_card\n",
      "\t-boleto\n",
      "\t-voucher\n",
      "\t-debit_card\n",
      "\t-not_defined\n"
     ]
    }
   ],
   "source": [
    "# Type de paiement : \n",
    "print('Types de paiement disponnibles :')\n",
    "for x in payments['payment_type'].unique():\n",
    "    print(f'\\t-{x}')\n",
    "\n",
    "del x"
   ]
  },
  {
   "cell_type": "code",
   "execution_count": 20,
   "id": "8f3e6441",
   "metadata": {
    "code_folding": [
     0
    ]
   },
   "outputs": [],
   "source": [
    "# Suppression des lignes où le paiement n'est pas défini (non utile pour la segmentation) : \n",
    "index = payments.loc[payments['payment_type'] == 'not_defined'].index\n",
    "\n",
    "payments = payments.drop(index, axis=0)\n",
    "\n",
    "del index"
   ]
  },
  {
   "cell_type": "code",
   "execution_count": 21,
   "id": "9b70b394",
   "metadata": {
    "code_folding": [
     0
    ]
   },
   "outputs": [],
   "source": [
    "# Réorganisation de payments : \n",
    "\"\"\"\n",
    "Création d'une seule ligne par order_id \n",
    "Création d'une colonne par payment_type (valeurs = sommes associées)\n",
    "Création d'une colonne payment_total (valeurs = sommes total de l'order_id)\n",
    "Report de la colonne installements\n",
    "\"\"\"\n",
    "\n",
    "# Création d'un payments_pivot :  \n",
    "payments_pivot = pd.pivot_table(\n",
    "    payments,\n",
    "    values='payment_value',\n",
    "    index='order_id',\n",
    "    columns='payment_type',\n",
    "    aggfunc='sum',\n",
    "    fill_value=0\n",
    ")\n",
    "\n",
    "# Réinitialisation de l'index : \n",
    "payments_pivot = payments_pivot.reset_index()\n",
    "\n",
    "# Ajout de la colonne payment_total\n",
    "payments_pivot['total'] = payments_pivot.iloc[:, 1:].sum(axis=1)\n",
    "\n",
    "# Report de la colonne installments de payments : \n",
    "payments_installments = payments.groupby('order_id')['installments'].first().reset_index()\n",
    "\n",
    "# Fusion de payments_pivot et payment_installments : \n",
    "payments = pd.merge(payments_pivot, payments_installments, on='order_id')\n",
    "\n",
    "# Renommage des colonnes en ajoutant \"payment_\" devant chaque nom de colonne de type de paiement : \n",
    "payments.rename(columns=lambda x: f\"payment_{x}\" if x != 'order_id' else x, inplace=True)\n",
    "\n",
    "del payments_pivot, payments_installments"
   ]
  },
  {
   "cell_type": "code",
   "execution_count": 22,
   "id": "1b82924f",
   "metadata": {},
   "outputs": [
    {
     "name": "stdout",
     "output_type": "stream",
     "text": [
      "Dimensions de payments : (99437, 7)\n",
      "----------------------------------------------------------------------------------------------------\n",
      "Colonnes et pourcentage de valeurs manquantes :\n",
      "\n",
      "order_id                0.0\n",
      "payment_boleto          0.0\n",
      "payment_credit_card     0.0\n",
      "payment_debit_card      0.0\n",
      "payment_voucher         0.0\n",
      "payment_total           0.0\n",
      "payment_installments    0.0\n",
      "dtype: float64\n",
      "----------------------------------------------------------------------------------------------------\n",
      "Type de données:\n",
      "\n",
      "order_id                 object\n",
      "payment_boleto          float64\n",
      "payment_credit_card     float64\n",
      "payment_debit_card      float64\n",
      "payment_voucher         float64\n",
      "payment_total           float64\n",
      "payment_installments      int64\n",
      "dtype: object\n"
     ]
    }
   ],
   "source": [
    "# Visualisation de payments après Réorgaisation : \n",
    "print(f\"Dimensions de payments : {payments.shape}\")\n",
    "\n",
    "print('--'*50)\n",
    "\n",
    "print(f\"Colonnes et pourcentage de valeurs manquantes :\\n\")\n",
    "print(payments.isna().mean())\n",
    "\n",
    "print('--'*50)\n",
    "\n",
    "print(f\"Type de données:\\n\")\n",
    "print(payments.dtypes)"
   ]
  },
  {
   "cell_type": "markdown",
   "id": "af4a403d",
   "metadata": {},
   "source": [
    "#### 4.3.2. <a id='toc4_3_2_'></a>[Ajout des variables dans data](#toc0_)"
   ]
  },
  {
   "cell_type": "code",
   "execution_count": 23,
   "id": "dc798682",
   "metadata": {
    "code_folding": [
     0
    ]
   },
   "outputs": [
    {
     "name": "stdout",
     "output_type": "stream",
     "text": [
      "Colonnes de data et valeurs manquantes :\n",
      "\n",
      "customer_unique_id          0.00000\n",
      "customer_zip_code_prefix    0.00000\n",
      "order_id                    0.00000\n",
      "order_purchase_timestamp    0.00000\n",
      "payment_boleto              0.00004\n",
      "payment_credit_card         0.00004\n",
      "payment_debit_card          0.00004\n",
      "payment_voucher             0.00004\n",
      "payment_total               0.00004\n",
      "payment_installments        0.00004\n",
      "dtype: float64\n",
      "\n",
      "Dimensions de data : (99441, 10)\n"
     ]
    }
   ],
   "source": [
    "# Ajout des colonnes à data : \n",
    "data = data.merge(payments, on='order_id', how='left')\n",
    "\n",
    "# Vérification : \n",
    "print(f\"Colonnes de data et valeurs manquantes :\\n\")\n",
    "print(data.isna().mean())\n",
    "print(f\"\\nDimensions de data : {data.shape}\")\n",
    "\n",
    "del payments"
   ]
  },
  {
   "cell_type": "code",
   "execution_count": 24,
   "id": "bb3b2d37",
   "metadata": {
    "code_folding": [
     0
    ]
   },
   "outputs": [],
   "source": [
    "# Complétion des valeurs manquantes : \n",
    "\"\"\"\n",
    "Complétion des valeurs manquantes à l'aide de price et freight_value du dataframes order_id \n",
    "    --> SI pas possible complétion par la valeur moyenne de payment_total\n",
    "Suppositions : \n",
    "- La commande a été rélgée à l'aide du moyen de paiement le plus courant. \n",
    "- installments est égal à la valeur la plus courante. \n",
    "\"\"\"\n",
    "\n",
    "# Récupération du moyen de paiment le plus courant :\n",
    "payment_type = 'payment_'+ dataframes['order_payments']['payment_type'].mode()[0]\n",
    "\n",
    "\n",
    "# Récupération des order_id concerné : \n",
    "ls_order_id = list(data.loc[data['payment_total'].isna(), 'order_id'].values)\n",
    "\n",
    "# Création de df (datframe basé sur order_id_item et ls_order_id) : \n",
    "df = dataframes['order_items'].loc[dataframes['order_items']['order_id'].isin(ls_order_id)]\n",
    "\n",
    "df = df.groupby('order_id')[['price', 'freight_value']].sum()\n",
    "\n",
    "df = df.reset_index()\n",
    "\n",
    "# Calcul du payment_total : \n",
    "df['payment_total'] = df['price'] + df['freight_value']\n",
    "\n",
    "\n",
    "# Ajout des valeurs dans data : \n",
    "for order_id in ls_order_id: \n",
    "   \n",
    "    if order_id in df['order_id'] and df.loc[df['order_id'] == order_id, 'payment_total'][0] != 0:\n",
    "        \n",
    "        data.loc[data['order_id'] == order_id, [payment_type, 'payment_total']] =\\\n",
    "        round(df.loc[df['order_id'] == order_id, 'payment_total'][0],2)\n",
    "        \n",
    "        data.loc[data['order_id'] == order_id, 'payment_installments'] = data['payment_installments'].mode()[0]\n",
    "\n",
    "    else:\n",
    "        data = data[data['order_id'] != order_id]\n",
    "    \n",
    "# Remplissage des modes de paiments restant par 0 : \n",
    "data = data.fillna(0)\n",
    "\n",
    "del payment_type, ls_order_id, df, order_id"
   ]
  },
  {
   "cell_type": "code",
   "execution_count": 25,
   "id": "8b3a6921",
   "metadata": {},
   "outputs": [
    {
     "name": "stdout",
     "output_type": "stream",
     "text": [
      "Il n'y a pas d'incohérence de relation entre les variables de prix\n"
     ]
    }
   ],
   "source": [
    "# Vérification de la cohérence de la relation du calcul de payment_value sur l'ensemble du dataset (marge de 10 centimes): \n",
    "\n",
    "# Calcul de la colonne théorique expected_payment_value avec une marge de tolérance\n",
    "tolerance = 0.1\n",
    "data['expected_payment_total'] = data[[\n",
    "    'payment_boleto',\n",
    "    'payment_credit_card',\n",
    "    'payment_debit_card',\n",
    "    'payment_voucher',\n",
    "]].sum(axis=1)\n",
    "\n",
    "# Vérification de la cohérence avec la marge de tolérance\n",
    "data['equation_check'] = np.abs(data['payment_total'] - data['expected_payment_total']) <= tolerance\n",
    "\n",
    "# Identification des exceptions où l'équation ne se vérifie pas\n",
    "exceptions = data[data['equation_check'] == False]\n",
    "\n",
    "# Suppression des colonnes de l'étude : \n",
    "data = data.drop(['expected_payment_total', 'equation_check'], axis=1)\n",
    "\n",
    "# Visualisation des exceptions\n",
    "if len(exceptions) == 0: \n",
    "    print(f\"Il n'y a pas d'incohérence de relation entre les variables de prix\")\n",
    "else:\n",
    "    print(f\"Il y a des incohérence sur {len(exceptions)} lignes\\n\")\n",
    "    print(f\"Ce qui réprésente {len(exceptions)/len(data)*100:.2f} % de data\")\n",
    "    print(f\"eceptions :\\n{exceptions}\")\n",
    "\n",
    "del tolerance, exceptions"
   ]
  },
  {
   "cell_type": "markdown",
   "id": "2f70bd2e",
   "metadata": {},
   "source": [
    "### 4.4. <a id='toc4_4_'></a>[Order_items](#toc0_)\n",
    "#### 4.4.1. <a id='toc4_4_1_'></a>[Formatage](#toc0_)"
   ]
  },
  {
   "cell_type": "code",
   "execution_count": 26,
   "id": "8d8af9a8",
   "metadata": {
    "code_folding": [
     0
    ],
    "scrolled": false
   },
   "outputs": [
    {
     "name": "stdout",
     "output_type": "stream",
     "text": [
      "Dimensions de order_items : (112650, 7)\n",
      "----------------------------------------------------------------------------------------------------\n",
      "Colonnes et pourcentage de valeurs manquantes :\n",
      "\n",
      "order_id               0.0\n",
      "order_item_id          0.0\n",
      "product_id             0.0\n",
      "seller_id              0.0\n",
      "shipping_limit_date    0.0\n",
      "price                  0.0\n",
      "freight_value          0.0\n",
      "dtype: float64\n",
      "----------------------------------------------------------------------------------------------------\n",
      "Type de données:\n",
      "\n",
      "order_id                object\n",
      "order_item_id            int64\n",
      "product_id              object\n",
      "seller_id               object\n",
      "shipping_limit_date     object\n",
      "price                  float64\n",
      "freight_value          float64\n",
      "dtype: object\n"
     ]
    }
   ],
   "source": [
    "# Création du dataframe : \n",
    "\n",
    "order_items = dataframes['order_items'].copy()\n",
    "\n",
    "print(f\"Dimensions de order_items : {order_items.shape}\")\n",
    "\n",
    "print('--'*50)\n",
    "\n",
    "print(f\"Colonnes et pourcentage de valeurs manquantes :\\n\")\n",
    "print(order_items.isna().mean())\n",
    "\n",
    "print('--'*50)\n",
    "\n",
    "print(f\"Type de données:\\n\")\n",
    "print(order_items.dtypes)"
   ]
  },
  {
   "cell_type": "code",
   "execution_count": 27,
   "id": "9ae5c618",
   "metadata": {
    "code_folding": [
     0
    ]
   },
   "outputs": [
    {
     "name": "stdout",
     "output_type": "stream",
     "text": [
      "Il y a 0 lignes en doublons\n"
     ]
    }
   ],
   "source": [
    "# Recherche de doublons : \n",
    "print(f\"Il y a {len(order_items[order_items.duplicated()])} lignes en doublons\")"
   ]
  },
  {
   "cell_type": "markdown",
   "id": "50d5898b",
   "metadata": {},
   "source": [
    "Variables utiles : \n",
    "- order_id pour le lien avec les autres dataframes.\n",
    "- shipping_limit_date : permettant dans un second temps de connaitre l'intérêt du client sur les délais d'expédition.\n",
    "- product_id pour le lien avec le dataframe products. (afin de récupérer la catégorie de produit pour dans un second temps connaitre les préférences du client)\n",
    "- order_item_id : permettant également dans un second temps de savoir si le client à pour habitude de ne faire qu'une commande par produit ou une commande pour plusieurs produits"
   ]
  },
  {
   "cell_type": "code",
   "execution_count": 28,
   "id": "ea522ed1",
   "metadata": {
    "code_folding": [
     0
    ]
   },
   "outputs": [],
   "source": [
    "# Afin de faire directement le lien avec data, ajout de la colonne product_category_name : \n",
    "order_items = order_items.merge(dataframes['products'][['product_id', 'product_category_name']], on='product_id', how='left')"
   ]
  },
  {
   "cell_type": "code",
   "execution_count": 29,
   "id": "c1eee537",
   "metadata": {
    "code_folding": [
     0
    ]
   },
   "outputs": [],
   "source": [
    "# Supression des colonnes inutiles : \n",
    "ls_drop = ['product_id', 'seller_id', 'price', 'freight_value']\n",
    "\n",
    "order_items = order_items.drop(ls_drop, axis=1)\n",
    "\n",
    "del ls_drop"
   ]
  },
  {
   "cell_type": "code",
   "execution_count": 30,
   "id": "5fd1d158",
   "metadata": {
    "code_folding": [
     0
    ]
   },
   "outputs": [],
   "source": [
    "# Réorganisation de order_items : \n",
    "\"\"\"\n",
    "Regroupement par order_id, pour n'avoir qu'une ligne par commande. \n",
    "Création d'une colonne 'number_of_product' ayant pour valeur le nombre de produit dans la commande.\n",
    "Création d'une colonne 'first_category_product' ayant pour valeur la catégorie de produit principale de la commande. \n",
    "Utilisation de la valeur unique de shipping_limit_date.\n",
    "\"\"\"\n",
    "\n",
    "# Création d'une fonction mode pour récupérer la catégorie de produit principale de la commande : \n",
    "def mode(series):\n",
    "    try:\n",
    "        return series.mode().iloc[0]\n",
    "    except IndexError:\n",
    "        return 'unknown'\n",
    "\n",
    "# Regroupement par order_id et modification des colonnes :\n",
    "df = order_items.groupby('order_id').agg({\n",
    "    'order_item_id' : 'max',\n",
    "    'shipping_limit_date' : 'unique',\n",
    "    'product_category_name' : mode,\n",
    "})\n",
    "\n",
    "# Récupération de la valeur dans chaque tableau Numpy de shipping_limit_date : \n",
    "df['shipping_limit_date'] = df['shipping_limit_date'].apply(lambda x: x[0])\n",
    "\n",
    "# Chagement des noms des colonnes : \n",
    "df.rename(columns={\n",
    "    'order_item_id' : 'number_of_product',\n",
    "    'product_category_name' : 'first_category_product',\n",
    "},\n",
    "          inplace=True\n",
    "         )\n",
    "\n",
    "# Reset de l'index de df et remplacement de order_items : \n",
    "\n",
    "df = df.reset_index()\n",
    "order_items = df\n",
    "\n",
    "del df "
   ]
  },
  {
   "cell_type": "code",
   "execution_count": 31,
   "id": "a70c969a",
   "metadata": {
    "code_folding": [
     0
    ]
   },
   "outputs": [
    {
     "name": "stdout",
     "output_type": "stream",
     "text": [
      "Dimensions de order_items : (98666, 4)\n",
      "----------------------------------------------------------------------------------------------------\n",
      "Colonnes et pourcentage de valeurs manquantes :\n",
      "\n",
      "order_id                  0.0\n",
      "number_of_product         0.0\n",
      "shipping_limit_date       0.0\n",
      "first_category_product    0.0\n",
      "dtype: float64\n",
      "----------------------------------------------------------------------------------------------------\n",
      "Type de données:\n",
      "\n",
      "order_id                  object\n",
      "number_of_product          int64\n",
      "shipping_limit_date       object\n",
      "first_category_product    object\n",
      "dtype: object\n"
     ]
    }
   ],
   "source": [
    "# Visualisation de order_items après réorgaisation : \n",
    "print(f\"Dimensions de order_items : {order_items.shape}\")\n",
    "\n",
    "print('--'*50)\n",
    "\n",
    "print(f\"Colonnes et pourcentage de valeurs manquantes :\\n\")\n",
    "print(order_items.isna().mean())\n",
    "\n",
    "print('--'*50)\n",
    "\n",
    "print(f\"Type de données:\\n\")\n",
    "print(order_items.dtypes)"
   ]
  },
  {
   "cell_type": "code",
   "execution_count": 32,
   "id": "0bc8dd33",
   "metadata": {},
   "outputs": [],
   "source": [
    "# Chagement de type de shipping_limit_date : \n",
    "order_items['shipping_limit_date'] = order_items['shipping_limit_date'].astype('datetime64[ns]')"
   ]
  },
  {
   "cell_type": "markdown",
   "id": "7c9ecc36",
   "metadata": {},
   "source": [
    "#### 4.4.2. <a id='toc4_4_2_'></a>[Ajout des variables dans data](#toc0_)"
   ]
  },
  {
   "cell_type": "code",
   "execution_count": 33,
   "id": "5d7b8456",
   "metadata": {
    "code_folding": [
     0
    ]
   },
   "outputs": [
    {
     "name": "stdout",
     "output_type": "stream",
     "text": [
      "Colonnes de data et valeurs manquantes :\n",
      "\n",
      "customer_unique_id          0.000000\n",
      "customer_zip_code_prefix    0.000000\n",
      "order_id                    0.000000\n",
      "order_purchase_timestamp    0.000000\n",
      "payment_boleto              0.000000\n",
      "payment_credit_card         0.000000\n",
      "payment_debit_card          0.000000\n",
      "payment_voucher             0.000000\n",
      "payment_total               0.000000\n",
      "payment_installments        0.000000\n",
      "number_of_product           0.007764\n",
      "shipping_limit_date         0.007764\n",
      "first_category_product      0.007764\n",
      "dtype: float64\n",
      "\n",
      "Dimensions de data : (99437, 13)\n"
     ]
    }
   ],
   "source": [
    "# Ajout des colonnes à data : \n",
    "data = data.merge(order_items, on='order_id', how='left')\n",
    "\n",
    "# Vérification : \n",
    "print(f\"Colonnes de data et valeurs manquantes :\\n\")\n",
    "print(data.isna().mean())\n",
    "print(f\"\\nDimensions de data : {data.shape}\")\n",
    "\n",
    "del order_items"
   ]
  },
  {
   "cell_type": "code",
   "execution_count": 34,
   "id": "e04969ea",
   "metadata": {
    "code_folding": [
     0
    ]
   },
   "outputs": [],
   "source": [
    "# Complétion des valeurs manquantes de number_of_product par le mode :\n",
    "data.loc[data['number_of_product'].isna(), 'number_of_product'] = data['number_of_product'].mode()[0]"
   ]
  },
  {
   "cell_type": "code",
   "execution_count": 35,
   "id": "423656b8",
   "metadata": {
    "code_folding": [
     0
    ]
   },
   "outputs": [],
   "source": [
    "# Complétion des valeurs manquantes de first_category_product par 'unknown' : \n",
    "data.loc[data['first_category_product'].isna(), 'first_category_product'] = data['first_category_product'].mode()[0]"
   ]
  },
  {
   "cell_type": "code",
   "execution_count": 36,
   "id": "63e22291",
   "metadata": {
    "code_folding": [
     0
    ]
   },
   "outputs": [],
   "source": [
    "# Création d'une colonne temps_expedition : \n",
    "\"\"\"\n",
    "La colonne shipping_limit_date a été gardée pour la création d'une variable permettant de connaitre l'affinité du client \n",
    "vis à vis du temps d'expédition de la commande.\n",
    "\n",
    "- Création de la colonne 'temps_expedition' exprimée en nombre de jours (calcul à partir de order_purchase_timestamp et \n",
    "shipping_limit_date).\n",
    "- Complétion de la variable par la valeur la plus courante. \n",
    "- Suppression de shipping_limit_date. \n",
    "\"\"\"\n",
    "\n",
    "# Création de la colonne 'temps_expedition' : \n",
    "data['temps_expedition'] = (data['shipping_limit_date'] - data['order_purchase_timestamp']).dt.days\n",
    "\n",
    "# Complétion de la colonne 'temps_expedition' par le mode : \n",
    "data.loc[data['temps_expedition'].isna(), 'temps_expedition'] = data['temps_expedition'].mode()[0]\n",
    "\n",
    "# Suprression de la colonne 'shipping_limit_date' : \n",
    "data = data.drop('shipping_limit_date', axis=1)"
   ]
  },
  {
   "cell_type": "code",
   "execution_count": 37,
   "id": "4fd96494",
   "metadata": {},
   "outputs": [
    {
     "data": {
      "text/plain": [
       "(99437, 13)"
      ]
     },
     "execution_count": 37,
     "metadata": {},
     "output_type": "execute_result"
    }
   ],
   "source": [
    "data.shape"
   ]
  },
  {
   "cell_type": "markdown",
   "id": "d58a2f86",
   "metadata": {},
   "source": [
    "### 4.5. <a id='toc4_5_'></a>[Order_reviews](#toc0_)\n",
    "#### 4.5.1. <a id='toc4_5_1_'></a>[Formatage](#toc0_)"
   ]
  },
  {
   "cell_type": "code",
   "execution_count": 38,
   "id": "de4388f7",
   "metadata": {
    "code_folding": [
     0
    ],
    "scrolled": false
   },
   "outputs": [
    {
     "name": "stdout",
     "output_type": "stream",
     "text": [
      "Dimensions de order_reviews : (99224, 7)\n",
      "----------------------------------------------------------------------------------------------------\n",
      "Colonnes et pourcentage de valeurs manquantes :\n",
      "\n",
      "review_id                  0.000000\n",
      "order_id                   0.000000\n",
      "review_score               0.000000\n",
      "review_comment_title       0.883415\n",
      "review_comment_message     0.587025\n",
      "review_creation_date       0.000000\n",
      "review_answer_timestamp    0.000000\n",
      "dtype: float64\n",
      "----------------------------------------------------------------------------------------------------\n",
      "Type de données:\n",
      "\n",
      "review_id                  object\n",
      "order_id                   object\n",
      "review_score                int64\n",
      "review_comment_title       object\n",
      "review_comment_message     object\n",
      "review_creation_date       object\n",
      "review_answer_timestamp    object\n",
      "dtype: object\n"
     ]
    }
   ],
   "source": [
    "# Création du dataframe : \n",
    "\n",
    "order_reviews = dataframes['order_reviews'].copy()\n",
    "\n",
    "print(f\"Dimensions de order_reviews : {order_reviews.shape}\")\n",
    "\n",
    "print('--'*50)\n",
    "\n",
    "print(f\"Colonnes et pourcentage de valeurs manquantes :\\n\")\n",
    "print(order_reviews.isna().mean())\n",
    "\n",
    "print('--'*50)\n",
    "\n",
    "print(f\"Type de données:\\n\")\n",
    "print(order_reviews.dtypes)"
   ]
  },
  {
   "cell_type": "code",
   "execution_count": 39,
   "id": "9bd805d4",
   "metadata": {
    "code_folding": [
     0
    ]
   },
   "outputs": [
    {
     "name": "stdout",
     "output_type": "stream",
     "text": [
      "Il y a 0 lignes en doublons\n"
     ]
    }
   ],
   "source": [
    "# Recherche de doublons : \n",
    "print(f\"Il y a {len(order_reviews[order_reviews.duplicated()])} lignes en doublons\")"
   ]
  },
  {
   "cell_type": "markdown",
   "id": "32ba4436",
   "metadata": {},
   "source": [
    "Variables utiles : \n",
    "- order_id pour le lien avec data\n",
    "- review_score pour avoir la notion de satisfaction du modèle RFM + S en marketing. "
   ]
  },
  {
   "cell_type": "code",
   "execution_count": 40,
   "id": "a9ecf803",
   "metadata": {},
   "outputs": [],
   "source": [
    "# Réorganisation de order_reviews :  \n",
    "\"\"\"\n",
    "Certaines commandes possèdent plusiseurs avis. \n",
    "\n",
    "- Création d'une ligne par order_id.\n",
    "- Création d'une colonne 'review_score_moy' étant la moyenne des review_score pour la commande en question.\n",
    "\"\"\"\n",
    "\n",
    "# Création du nouveau order_reviews : \n",
    "order_reviews = order_reviews[['order_id', 'review_score']]\n",
    "order_reviews = order_reviews.groupby('order_id').mean()\n",
    "\n",
    "# Arrondissement des valeurs de la colonne 'review_score' : \n",
    "order_reviews['review_score'] = round(order_reviews['review_score'])\n",
    "\n",
    "# Renommage de la colonne 'review_score' :\n",
    "order_reviews.rename(columns={'review_score' : 'review_score_moy'}, inplace=True)\n",
    "\n",
    "# Reset de l'index : \n",
    "order_reviews = order_reviews.reset_index()"
   ]
  },
  {
   "cell_type": "markdown",
   "id": "a9b17beb",
   "metadata": {},
   "source": [
    "#### 4.5.2. <a id='toc4_5_2_'></a>[Ajout des variables dans data :](#toc0_)"
   ]
  },
  {
   "cell_type": "code",
   "execution_count": 41,
   "id": "3f2ab4bd",
   "metadata": {
    "code_folding": [
     0
    ]
   },
   "outputs": [
    {
     "name": "stdout",
     "output_type": "stream",
     "text": [
      "Colonnes de data et valeurs manquantes :\n",
      "\n",
      "customer_unique_id          0.000000\n",
      "customer_zip_code_prefix    0.000000\n",
      "order_id                    0.000000\n",
      "order_purchase_timestamp    0.000000\n",
      "payment_boleto              0.000000\n",
      "payment_credit_card         0.000000\n",
      "payment_debit_card          0.000000\n",
      "payment_voucher             0.000000\n",
      "payment_total               0.000000\n",
      "payment_installments        0.000000\n",
      "number_of_product           0.000000\n",
      "first_category_product      0.000000\n",
      "temps_expedition            0.000000\n",
      "review_score_moy            0.007723\n",
      "dtype: float64\n",
      "\n",
      "Dimensions de data : (99437, 14)\n"
     ]
    }
   ],
   "source": [
    "# Ajout des colonnes à data : \n",
    "data = data.merge(order_reviews, on='order_id', how='left')\n",
    "\n",
    "# Vérification : \n",
    "print(f\"Colonnes de data et valeurs manquantes :\\n\")\n",
    "print(data.isna().mean())\n",
    "print(f\"\\nDimensions de data : {data.shape}\")\n",
    "\n",
    "del order_reviews"
   ]
  },
  {
   "cell_type": "code",
   "execution_count": 42,
   "id": "f2132249",
   "metadata": {},
   "outputs": [],
   "source": [
    "# Complétion des valeurs de review_score_moy par la mouyenne de l'ensemble des commandes : \n",
    "\n",
    "data.loc[data['review_score_moy'].isna(), 'review_score_moy'] = round(data['review_score_moy'].mean())"
   ]
  },
  {
   "cell_type": "markdown",
   "id": "b5b4b8d2",
   "metadata": {},
   "source": [
    "## 5. <a id='toc5_'></a>[Finalisation de data](#toc0_)"
   ]
  },
  {
   "cell_type": "code",
   "execution_count": 43,
   "id": "b2689b41",
   "metadata": {
    "code_folding": [
     0
    ]
   },
   "outputs": [
    {
     "name": "stdout",
     "output_type": "stream",
     "text": [
      "Dimensions de data : (99437, 14)\n",
      "----------------------------------------------------------------------------------------------------\n",
      "Colonnes et pourcentage de valeurs manquantes :\n",
      "\n",
      "customer_unique_id          0.0\n",
      "customer_zip_code_prefix    0.0\n",
      "order_id                    0.0\n",
      "order_purchase_timestamp    0.0\n",
      "payment_boleto              0.0\n",
      "payment_credit_card         0.0\n",
      "payment_debit_card          0.0\n",
      "payment_voucher             0.0\n",
      "payment_total               0.0\n",
      "payment_installments        0.0\n",
      "number_of_product           0.0\n",
      "first_category_product      0.0\n",
      "temps_expedition            0.0\n",
      "review_score_moy            0.0\n",
      "dtype: float64\n",
      "----------------------------------------------------------------------------------------------------\n",
      "Type de données:\n",
      "\n",
      "customer_unique_id                  object\n",
      "customer_zip_code_prefix             int64\n",
      "order_id                            object\n",
      "order_purchase_timestamp    datetime64[ns]\n",
      "payment_boleto                     float64\n",
      "payment_credit_card                float64\n",
      "payment_debit_card                 float64\n",
      "payment_voucher                    float64\n",
      "payment_total                      float64\n",
      "payment_installments               float64\n",
      "number_of_product                  float64\n",
      "first_category_product              object\n",
      "temps_expedition                   float64\n",
      "review_score_moy                   float64\n",
      "dtype: object\n"
     ]
    }
   ],
   "source": [
    "# Visualisation : \n",
    "\n",
    "print(f\"Dimensions de data : {data.shape}\")\n",
    "\n",
    "print('--'*50)\n",
    "\n",
    "print(f\"Colonnes et pourcentage de valeurs manquantes :\\n\")\n",
    "print(data.isna().mean())\n",
    "\n",
    "print('--'*50)\n",
    "\n",
    "print(f\"Type de données:\\n\")\n",
    "print(data.dtypes)"
   ]
  },
  {
   "cell_type": "code",
   "execution_count": 44,
   "id": "d40800c9",
   "metadata": {},
   "outputs": [],
   "source": [
    "# Foramtage du type des données : \n",
    "data['number_of_product'] = data['number_of_product'].astype('int64')\n",
    "data['temps_expedition'] = data['temps_expedition'].astype('int64')\n",
    "data['review_score_moy'] = data['review_score_moy'].astype('int64')\n",
    "data['payment_installments'] = data['payment_installments'].astype('int64')"
   ]
  },
  {
   "cell_type": "markdown",
   "id": "4b2ce41c",
   "metadata": {},
   "source": [
    "## 6. <a id='toc6_'></a>[Création des features engineering](#toc0_)\n",
    "### 6.1. <a id='toc6_1_'></a>[Création de nouvelles variables](#toc0_)"
   ]
  },
  {
   "cell_type": "code",
   "execution_count": 45,
   "id": "e691b787",
   "metadata": {
    "code_folding": [
     0
    ]
   },
   "outputs": [],
   "source": [
    "# Création d'une variable 'jour_de_commande' : \n",
    "data['jour_de_commande'] = data['order_purchase_timestamp'].dt.day_name()"
   ]
  },
  {
   "cell_type": "code",
   "execution_count": 46,
   "id": "90a179c7",
   "metadata": {
    "code_folding": [
     0
    ]
   },
   "outputs": [],
   "source": [
    "# Création d'une variable 'moment_de_commande' : \n",
    "\n",
    "# Création de la variable intermédiaire 'heure_commande' : \n",
    "data['heure_commande'] = data['order_purchase_timestamp'].dt.hour\n",
    "\n",
    "# Création de filtres en fonction des plages horaires : \n",
    "conditions = [\n",
    "    (data['heure_commande'] >= 0) & (data['heure_commande'] < 7),\n",
    "    (data['heure_commande'] >= 7) & (data['heure_commande'] < 12),\n",
    "    (data['heure_commande'] >= 12) & (data['heure_commande'] < 14),\n",
    "    (data['heure_commande'] >= 14) & (data['heure_commande'] < 19),\n",
    "    (data['heure_commande'] >= 19) & (data['heure_commande'] < 24)\n",
    "]\n",
    "\n",
    "# Création des différents moments : \n",
    "choices = ['nuit', 'matin', 'midi', 'après-midi', 'soir']\n",
    "\n",
    "# Création de la variable dans data \n",
    "data['moment_de_commande'] = pd.Series(np.select(conditions, choices))\n",
    "\n",
    "# Suppression de la variables intermédiaire : \n",
    "data = data.drop('heure_commande', axis=1)\n",
    "\n",
    "del conditions, choices"
   ]
  },
  {
   "cell_type": "code",
   "execution_count": 47,
   "id": "ddf47b52",
   "metadata": {},
   "outputs": [],
   "source": [
    "# Création de la variables recence par commande : \n",
    "\n",
    "# Calcul de la dernière date de commande du dataset : \n",
    "last_date = data['order_purchase_timestamp'].max()\n",
    "\n",
    "# Calcul de la recence par commande : \n",
    "data['recence'] = (last_date - data['order_purchase_timestamp']).dt.days\n",
    "\n",
    "del last_date"
   ]
  },
  {
   "cell_type": "markdown",
   "id": "5293264e",
   "metadata": {},
   "source": [
    "### 6.2. <a id='toc6_2_'></a>[Création du feature engineering_1](#toc0_)\n",
    "Création de data_RFMS répondant à la météhode RFMS (recence, fréquence, montant, satisfaction) en marketing pour chaque client."
   ]
  },
  {
   "cell_type": "code",
   "execution_count": 48,
   "id": "9e5de530",
   "metadata": {
    "code_folding": [
     0
    ]
   },
   "outputs": [],
   "source": [
    "# Création de data_RFMS à partir des customer_unique_id : \n",
    "\n",
    "data_RFMS = data.groupby('customer_unique_id').agg({\n",
    "    'recence' : 'min',\n",
    "    'order_id' : 'nunique',\n",
    "    'payment_total' : 'sum',\n",
    "    'review_score_moy' : 'mean',\n",
    "})\n",
    "\n",
    "# Renommage des colonnes : \n",
    "data_RFMS = data_RFMS.rename(columns={\n",
    "    'recence': 'recence',\n",
    "    'order_id': 'frequence',\n",
    "    'payment_total': 'montant',\n",
    "    'review_score_moy': 'satisfaction',\n",
    "})\n",
    "\n",
    "# Aronndi de la colonne satisfaction et typage : \n",
    "data_RFMS['satisfaction'] = round(data_RFMS['satisfaction']).astype('int64')\n",
    "\n",
    "# Reset de l'index : \n",
    "data_RFMS = data_RFMS.reset_index()\n"
   ]
  },
  {
   "cell_type": "code",
   "execution_count": 49,
   "id": "3f248d3f",
   "metadata": {},
   "outputs": [
    {
     "name": "stdout",
     "output_type": "stream",
     "text": [
      "Colonnes de data_RFMS :\n",
      "\n",
      "\t- customer_unique_id\n",
      "\t- recence\n",
      "\t- frequence\n",
      "\t- montant\n",
      "\t- satisfaction\n"
     ]
    }
   ],
   "source": [
    "# Visualisation : \n",
    "print('Colonnes de data_RFMS :\\n')\n",
    "for col in data_RFMS.columns:\n",
    "    print(f\"\\t- {col}\")\n",
    "    \n",
    "del col"
   ]
  },
  {
   "cell_type": "markdown",
   "id": "54f52100",
   "metadata": {},
   "source": [
    "### 6.3. <a id='toc6_3_'></a>[Création du feature engineering_2](#toc0_)"
   ]
  },
  {
   "cell_type": "code",
   "execution_count": 50,
   "id": "7ce97d08",
   "metadata": {
    "code_folding": [
     0
    ]
   },
   "outputs": [],
   "source": [
    "# Création de data avec l'ensemble des données pour le clustering aggréger par customer_unique_id : \n",
    "\n",
    "data_FE2 = data.groupby('customer_unique_id').agg({\n",
    "    'payment_boleto' : 'sum',\n",
    "    'payment_credit_card' : 'sum',\n",
    "    'payment_debit_card' : 'sum',\n",
    "    'payment_voucher' : 'sum',\n",
    "    'payment_installments': 'first',\n",
    "    'number_of_product' : 'sum',\n",
    "    'temps_expedition' : 'mean',\n",
    "    'jour_de_commande' : 'first',\n",
    "    'moment_de_commande' : 'first',\n",
    "})\n",
    "\n",
    "\n",
    "# Renommage des colonnes : \n",
    "data_FE2 = data_FE2.rename(columns={\n",
    "    'number_of_product' : 'number_of_product_tot',\n",
    "    'payment_installments' : 'payment_installments_mode',\n",
    "    'jour_de_commande' : 'jour_de_commande_mode',\n",
    "    'temps_expedition' : 'temps_expedition_moy',\n",
    "    'moment_de_commande' : 'moment_de_commande_mode',\n",
    "})\n",
    "\n",
    "# Reset de l'index : \n",
    "data_FE2 = data_FE2.reset_index()\n",
    "\n",
    "# Ajout des colonnes RFMS : \n",
    "data_FE2 = data_RFMS.merge(data_FE2, on='customer_unique_id', how='left')\n",
    "\n",
    "# Mise en index de la colonne customer_unique_id : \n",
    "data_FE2 = data_FE2.set_index('customer_unique_id')"
   ]
  },
  {
   "cell_type": "code",
   "execution_count": 51,
   "id": "52689108",
   "metadata": {},
   "outputs": [
    {
     "name": "stdout",
     "output_type": "stream",
     "text": [
      "Colonnes de data_FE2 :\n",
      "\n",
      "\t- recence\n",
      "\t- frequence\n",
      "\t- montant\n",
      "\t- satisfaction\n",
      "\t- payment_boleto\n",
      "\t- payment_credit_card\n",
      "\t- payment_debit_card\n",
      "\t- payment_voucher\n",
      "\t- payment_installments_mode\n",
      "\t- number_of_product_tot\n",
      "\t- temps_expedition_moy\n",
      "\t- jour_de_commande_mode\n",
      "\t- moment_de_commande_mode\n"
     ]
    }
   ],
   "source": [
    "# Visualisation : \n",
    "print('Colonnes de data_FE2 :\\n')\n",
    "for col in data_FE2.columns:\n",
    "    print(f\"\\t- {col}\")\n",
    "    \n",
    "del col"
   ]
  },
  {
   "cell_type": "markdown",
   "id": "3d9fc69d",
   "metadata": {},
   "source": [
    "## 7. <a id='toc7_'></a>[Enregistrement des données](#toc0_)"
   ]
  },
  {
   "cell_type": "code",
   "execution_count": 52,
   "id": "906831be",
   "metadata": {
    "code_folding": [
     0
    ]
   },
   "outputs": [],
   "source": [
    "# Enregistrement des données : \n",
    "\n",
    "name = 'data'\n",
    "with open(dossier_sauvegarde + '/' + name + '.pickle', 'wb') as f:\n",
    "    pickle.dump(data, f)\n",
    "\n",
    "name = 'data_RFMS'\n",
    "with open(dossier_sauvegarde + '/' + name + '.pickle', 'wb') as f:\n",
    "    pickle.dump(data_RFMS, f)\n",
    "\n",
    "name = 'data_FE2'\n",
    "with open(dossier_sauvegarde + '/' + name + '.pickle', 'wb') as f:\n",
    "    pickle.dump(data_FE2, f)\n",
    "\n",
    "del name, dossier_sauvegarde, dossier_donnees"
   ]
  }
 ],
 "metadata": {
  "kernelspec": {
   "display_name": "Python 3 (ipykernel)",
   "language": "python",
   "name": "python3"
  },
  "language_info": {
   "codemirror_mode": {
    "name": "ipython",
    "version": 3
   },
   "file_extension": ".py",
   "mimetype": "text/x-python",
   "name": "python",
   "nbconvert_exporter": "python",
   "pygments_lexer": "ipython3",
   "version": "3.10.13"
  },
  "toc": {
   "base_numbering": 1,
   "nav_menu": {},
   "number_sections": true,
   "sideBar": true,
   "skip_h1_title": false,
   "title_cell": "Table of Contents",
   "title_sidebar": "Contents",
   "toc_cell": false,
   "toc_position": {
    "height": "calc(100% - 180px)",
    "left": "10px",
    "top": "150px",
    "width": "264.796875px"
   },
   "toc_section_display": true,
   "toc_window_display": true
  }
 },
 "nbformat": 4,
 "nbformat_minor": 5
}
